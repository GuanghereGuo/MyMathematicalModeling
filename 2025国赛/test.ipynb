{
 "cells": [
  {
   "cell_type": "code",
   "id": "initial_id",
   "metadata": {
    "collapsed": true,
    "ExecuteTime": {
     "end_time": "2025-09-04T14:26:39.383013Z",
     "start_time": "2025-09-04T14:26:39.358395Z"
    }
   },
   "source": [
    "import numpy as np\n",
    "\n",
    "# --- Step 1: Parameters ---\n",
    "P_M1_0 = np.array([20000., 0., 2000.])\n",
    "v_M = 300.\n",
    "P_FY1_0 = np.array([17800., 0., 1800.])\n",
    "v_FY1 = 120.\n",
    "P_Decoy = np.array([0., 0., 0.])\n",
    "P_T = np.array([0., 200., 5.])\n",
    "R_C = 10.\n",
    "v_sink = 3.\n",
    "g = 9.8\n",
    "t_drop = 1.5\n",
    "t_fuse_delay = 3.6\n",
    "t_detonate = t_drop + t_fuse_delay\n",
    "\n",
    "# --- Step 2: Trajectories (Corrected) ---\n",
    "# M1 trajectory (unchanged)\n",
    "d_M1 = (P_Decoy - P_M1_0) / np.linalg.norm(P_Decoy - P_M1_0)\n",
    "def get_P_M1(t):\n",
    "    return P_M1_0 + v_M * t * d_M1\n",
    "\n",
    "# FY1 trajectory (corrected for constant altitude)\n",
    "d_FY1_horizontal = (P_Decoy[:2] - P_FY1_0[:2]) / np.linalg.norm(P_Decoy[:2] - P_FY1_0[:2])\n",
    "d_FY1 = np.array([d_FY1_horizontal[0], d_FY1_horizontal[1], 0.])\n",
    "v_vec_FY1 = v_FY1 * d_FY1\n",
    "def get_P_FY1(t):\n",
    "    return P_FY1_0 + v_vec_FY1 * t\n",
    "\n",
    "# --- Step 3: Detonation Point (Recalculated) ---\n",
    "P_drop = get_P_FY1(t_drop)\n",
    "v_drop = v_vec_FY1\n",
    "P_detonate = P_drop + v_drop * t_fuse_delay + np.array([0, 0, -0.5 * g * t_fuse_delay**2])\n",
    "\n",
    "# --- Step 4: Cloud Center Trajectory (Updated) ---\n",
    "def get_P_C(t):\n",
    "    if t < t_detonate:\n",
    "        return None\n",
    "    return P_detonate + np.array([0, 0, -v_sink * (t - t_detonate)])\n",
    "\n",
    "# --- Step 5: Simulation ---\n",
    "def dist_point_to_segment(p, a, b):\n",
    "    v = b - a\n",
    "    w = p - a\n",
    "    c1 = np.dot(w, v)\n",
    "    if c1 <= 0: return np.linalg.norm(p - a)\n",
    "    c2 = np.dot(v, v)\n",
    "    if c2 <= c1: return np.linalg.norm(p - b)\n",
    "    b_proj = c1 / c2\n",
    "    pb = a + b_proj * v\n",
    "    return np.linalg.norm(p - pb)\n",
    "\n",
    "total_shielding_time = 0.0\n",
    "dt = 0.01\n",
    "t_start = t_detonate\n",
    "t_end = t_detonate + 20.0\n",
    "\n",
    "for t in np.arange(t_start, t_end, dt):\n",
    "    p_m1_t = get_P_M1(t)\n",
    "    p_c_t = get_P_C(t)\n",
    "\n",
    "    distance = dist_point_to_segment(p_c_t, p_m1_t, P_T)\n",
    "\n",
    "    if distance < R_C:\n",
    "        total_shielding_time += dt\n",
    "\n",
    "# --- Final Result ---\n",
    "print(f\"修正后的起爆点 P_detonate: {P_detonate}\")\n",
    "print(f\"修正后的有效遮蔽时长: {total_shielding_time:.4f} s\")\n",
    "\n",
    "# 修正后的起爆点 P_detonate: [17188.       0.        1736.496]\n",
    "# 修正后的有效遮蔽时长: 2.1400 s\n"
   ],
   "outputs": [
    {
     "name": "stdout",
     "output_type": "stream",
     "text": [
      "修正后的起爆点 P_detonate: [17188.        0.     1736.496]\n",
      "修正后的有效遮蔽时长: 1.4300 s\n"
     ]
    }
   ],
   "execution_count": 2
  }
 ],
 "metadata": {
  "kernelspec": {
   "display_name": "Python 3",
   "language": "python",
   "name": "python3"
  },
  "language_info": {
   "codemirror_mode": {
    "name": "ipython",
    "version": 2
   },
   "file_extension": ".py",
   "mimetype": "text/x-python",
   "name": "python",
   "nbconvert_exporter": "python",
   "pygments_lexer": "ipython2",
   "version": "2.7.6"
  }
 },
 "nbformat": 4,
 "nbformat_minor": 5
}
